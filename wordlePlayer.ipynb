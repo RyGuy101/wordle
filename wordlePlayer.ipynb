{
 "cells": [
  {
   "cell_type": "code",
   "execution_count": 97,
   "metadata": {},
   "outputs": [],
   "source": [
    "if 'google.colab' in str(get_ipython()):\n",
    "    import os\n",
    "    import subprocess\n",
    "    subprocess.run(['git', 'clone', 'https://github.com/RyGuy101/wordle.git'])\n",
    "    os.chdir('./wordle')"
   ]
  },
  {
   "cell_type": "code",
   "execution_count": 98,
   "metadata": {},
   "outputs": [],
   "source": [
    "from wordle import *\n",
    "import time\n",
    "\n",
    "class Exiting(Exception):\n",
    "    def _render_traceback_(self):\n",
    "        pass\n",
    "\n",
    "def hintStringToHash(hint_string):\n",
    "    hint_string = hint_string.replace('b', '0').replace('y', '1').replace('g', '2')[::-1]\n",
    "    return int(hint_string, 3)\n",
    "\n",
    "def getHintFromUser(n_guesses):\n",
    "    print(\"Enter hint {}: \".format(n_guesses+1), end='')\n",
    "    time.sleep(0.05)\n",
    "    hint_string = input()\n",
    "    while len(hint_string) != 5 or hint_string.count('b') + hint_string.count('y') + hint_string.count('g') != 5:\n",
    "        print(\"\\nInvalid hint string, try again: \", end='')\n",
    "        hint_string = input()\n",
    "    return hint_string, hintStringToHash(hint_string)\n"
   ]
  },
  {
   "cell_type": "code",
   "execution_count": 99,
   "metadata": {},
   "outputs": [
    {
     "name": "stdout",
     "output_type": "stream",
     "text": [
      "Enter the provided guesses at https://www.nytimes.com/games/wordle/index.html.\n",
      "Then, report each hint as a string. For example \"gybbb\" stands for one green tile, followed by one yellow tile, followed by three blank tiles.\n",
      "\n",
      "Guess 1: SALET\n",
      "Enter hint 1: (bgggg)\n",
      "\n",
      "Guess 2: VALET\n",
      "Enter hint 2: (ggggg)\n",
      "\n",
      "Guessed the Wordle in 2 guesses!\n"
     ]
    }
   ],
   "source": [
    "with open(\"wordleTreeOptimized.pickle\", 'rb') as f:\n",
    "    wordleTree = pickle.load(f)\n",
    "\n",
    "print(\"Enter the provided guesses at https://www.nytimes.com/games/wordle/index.html.\")\n",
    "print(\"Then, report each hint as a string. For example \\\"gybbb\\\" stands for one green tile, followed by one yellow tile, followed by three blank tiles.\")\n",
    "print()\n",
    "\n",
    "n_guesses = 0\n",
    "hint_node = wordleTree\n",
    "\n",
    "while (hint_node.num_possible_words > 2) and (hint_node.hint_hash != 3**5 - 1):\n",
    "    print(\"Guess {}: {}\".format(n_guesses+1, guesses[hint_node.words[0].guess_index].upper()))\n",
    "    hint_string, next_hint_hash = getHintFromUser(n_guesses)\n",
    "    print(\"({})\".format(hint_string), end='\\n\\n')\n",
    "    for next_hint_node in hint_node.words[0].hints:\n",
    "        if next_hint_node.hint_hash == next_hint_hash:\n",
    "            break\n",
    "    if next_hint_node.hint_hash != next_hint_hash:\n",
    "        print(\"Uh oh! I don't know this word!\")\n",
    "        raise Exiting\n",
    "    hint_node = next_hint_node\n",
    "    n_guesses += 1\n",
    "\n",
    "if hint_node.hint_hash != 3**5 - 1:\n",
    "    for word_node in hint_node.words:\n",
    "        print(\"Guess {}: {}\".format(n_guesses+1, guesses[word_node.guess_index].upper()))\n",
    "        hint_string, next_hint_hash = getHintFromUser(n_guesses)\n",
    "        print(\"({})\".format(hint_string), end='\\n\\n')\n",
    "        n_guesses += 1\n",
    "        if next_hint_hash == 3**5 - 1:\n",
    "            break\n",
    "\n",
    "    if next_hint_hash != 3**5 - 1:\n",
    "        print(\"Uh oh! I don't know this word!\")\n",
    "        raise Exiting\n",
    "\n",
    "print(\"Guessed the Wordle in {} guesses!\".format(n_guesses))"
   ]
  }
 ],
 "metadata": {
  "interpreter": {
   "hash": "b0fa6594d8f4cbf19f97940f81e996739fb7646882a419484c72d19e05852a7e"
  },
  "kernelspec": {
   "display_name": "Python 3.9.10 64-bit",
   "language": "python",
   "name": "python3"
  },
  "language_info": {
   "codemirror_mode": {
    "name": "ipython",
    "version": 3
   },
   "file_extension": ".py",
   "mimetype": "text/x-python",
   "name": "python",
   "nbconvert_exporter": "python",
   "pygments_lexer": "ipython3",
   "version": "3.9.10"
  },
  "orig_nbformat": 4
 },
 "nbformat": 4,
 "nbformat_minor": 2
}
